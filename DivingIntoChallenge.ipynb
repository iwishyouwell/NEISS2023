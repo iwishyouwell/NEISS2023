{
  "cells": [
    {
      "cell_type": "markdown",
      "metadata": {
        "id": "view-in-github",
        "colab_type": "text"
      },
      "source": [
        "<a href=\"https://colab.research.google.com/github/iwishyouwell/NEISS2023/blob/main/DivingIntoChallenge.ipynb\" target=\"_parent\"><img src=\"https://colab.research.google.com/assets/colab-badge.svg\" alt=\"Open In Colab\"/></a>"
      ]
    },
    {
      "cell_type": "markdown",
      "source": [
        "# About\n",
        "\n",
        "This notebook is **best viewed in Colab**.\n",
        "\n",
        "You may directly fork and launch your own (Colab session directly from our GitHub repos](here).\n",
        "\n",
        "It demonstrates how to...\n",
        "\n",
        "## Use system commands and admin tasks\n",
        "- How to mount to Google Drive and create symbolic links\n",
        "- How to Upload Kaggle API should you wish to connect to datasets found on Kaggle\n",
        "- How to use system commands to perform simple queries\n",
        "  - ```!wget```, ```unzip```\n",
        "  - ```!cat```, ```grep```, ```wc -l```, ```ls```\n",
        "  \n",
        "- Working with large dataframe using ```Polars```\n",
        "\n",
        "## Visualize data triplets\n",
        "\n",
        "- Visualize sex-stratified age distributions using ```violin``` plots from ```seaborn```\n",
        "- Generate interactive plots with ```plotly```\n",
        "  - ```px.bar``` [(see example call)](https://colab.research.google.com/drive/1cT9j-ZfY0BWsJyBBnqYeZtJJKOA-OU2a?authuser=5#scrollTo=dUTKK_ccRzS_&line=1&uniqifier=1)\n",
        "  - ```px.violin```\n",
        "  - ```px.scatter``` [(see example call)](https://colab.research.google.com/drive/1cT9j-ZfY0BWsJyBBnqYeZtJJKOA-OU2a?authuser=5#scrollTo=-53rTQ165xf5&line=1&uniqifier=1)\n",
        "\n",
        "## Simple clustering with YAKE!\n",
        "\n",
        "- Extends notebook kindly shared by [@JimKing100](https://www.drivendata.org/competitions/217/cdc-fall-narratives/community-code/11/)\n",
        "- ```Umap```: running this notebook without changes should lead to an **interactive plot** that allows you to hovering over a data point to reveal additional data as a \"pop-up\":\n",
        "\n",
        "<image src=\"https://github.com/iwishyouwell/NEISS2023/blob/main/figures/interactive_plot_umap.png?raw=true\"/>"
      ],
      "metadata": {
        "id": "_SJ6G0WWOkcv"
      }
    },
    {
      "cell_type": "markdown",
      "metadata": {
        "id": "91XvkXPTpfgY"
      },
      "source": [
        "# Technical background: info for users new to Kaggle and/or Colab"
      ]
    },
    {
      "cell_type": "markdown",
      "metadata": {
        "id": "CNXsqn3uXHVx"
      },
      "source": [
        "## Mount drive and Download"
      ]
    },
    {
      "cell_type": "code",
      "execution_count": null,
      "metadata": {
        "id": "Gu68BakeSilc",
        "colab": {
          "base_uri": "https://localhost:8080/"
        },
        "outputId": "b6ffa085-bf37-4b1b-f65f-712c74df41e7"
      },
      "outputs": [
        {
          "output_type": "stream",
          "name": "stdout",
          "text": [
            "Mounted at /content/gdrive\n",
            "Mounted at /content/drive\n"
          ]
        }
      ],
      "source": [
        "if ('nb_path' in globals())==False:\n",
        "  from google.colab import drive\n",
        "  drive.mount('/content/gdrive', force_remount=True)\n",
        "\n",
        "  import os, sys\n",
        "  from google.colab import drive\n",
        "  drive.mount('/content/drive', force_remount=True)\n",
        "\n",
        "  nb_path = '/content/notebooks'\n",
        "\n",
        "  # symbolic to /content/drive/My Drive/Colab Notebooks\n",
        "  try:\n",
        "    os.symlink('/content/drive/My Drive/Colab Notebooks', nb_path)\n",
        "  except:\n",
        "    pass\n",
        "\n",
        "  sys.path.insert(0,nb_path)"
      ]
    },
    {
      "cell_type": "markdown",
      "metadata": {
        "id": "DU-E8-L6V7YQ"
      },
      "source": [
        "## Demo notebook on downloading Kaggle datasets to Colab\n",
        "\n",
        "Source: https://colab.research.google.com/github/corrieann/kaggle/blob/master/kaggle_api_in_colab.ipynb\n",
        "\n",
        "\n",
        "### Overview\n",
        "\n",
        "1. Download token file ```kaggle.json```\n",
        "- https://www.kaggle.com/settings/account > ```Create New Token```\n",
        "- ```kaggle.json``` will download to your computer\n",
        "\n",
        "2. Upload ```kaggle.json```\n",
        "- Execute code snippet below\n",
        "- Select latest copy of ```kaggle.json```\n",
        "  - Will need to repeat this step whenever you updated new token\n",
        "\n",
        "3. Mount to you Colab Drive\n",
        "\n",
        "4. Download specific dataset, e.g.\n"
      ]
    },
    {
      "cell_type": "markdown",
      "metadata": {
        "id": "p6OhpNYuXBh3"
      },
      "source": [
        "## Install Kaggle API"
      ]
    },
    {
      "cell_type": "code",
      "source": [
        "!ls /content/drive/MyDrive/*json"
      ],
      "metadata": {
        "colab": {
          "base_uri": "https://localhost:8080/"
        },
        "id": "K__-GeUOemAf",
        "outputId": "cf107a53-c05f-4f72-b944-cdf1c0163afd"
      },
      "execution_count": null,
      "outputs": [
        {
          "output_type": "stream",
          "name": "stdout",
          "text": [
            "/content/drive/MyDrive/kaggle.json\n"
          ]
        }
      ]
    },
    {
      "cell_type": "code",
      "execution_count": null,
      "metadata": {
        "id": "ak8F2R4UUx5T"
      },
      "outputs": [],
      "source": [
        "# first time users: remove the 0 condition to run this block\n",
        "if 0 & (( 'uploaded' in globals())==False):\n",
        "  from google.colab import files\n",
        "\n",
        "  uploaded = files.upload()\n",
        "\n",
        "  for fn in uploaded.keys():\n",
        "    print('User uploaded file \"{name}\" with length {length} bytes'.format(\n",
        "        name=fn, length=len(uploaded[fn])))\n",
        "\n",
        "  # Creat folder ~/.kaggle/\n",
        "  # Copy kaggle.json into this new folder (where Kaggle API expects to find)\n",
        "  !mkdir -p ~/.kaggle/ && cp kaggle.json ~/.kaggle/ && chmod 600 ~/.kaggle/kaggle.json\n",
        "else:\n",
        "  !mkdir -p ~/.kaggle/ && cp /content/drive/MyDrive/kaggle.json ~/.kaggle/ && chmod 600 ~/.kaggle/kaggle.json"
      ]
    },
    {
      "cell_type": "code",
      "execution_count": null,
      "metadata": {
        "id": "dHb8OHxLU6l6"
      },
      "outputs": [],
      "source": [
        "# !kaggle datasets list -v  # run this if you would like to see sample list of datasets available for download"
      ]
    },
    {
      "cell_type": "markdown",
      "source": [
        "### FYI: to unzip archive saved in .7z format\n",
        "\n",
        "```\n",
        "import py7zr\n",
        "with py7zr.SevenZipFile('/path/to/file.7z', mode='r') as z:\n",
        "    z.extractall()\n",
        "```"
      ],
      "metadata": {
        "id": "vQaRQCgng6mw"
      }
    },
    {
      "cell_type": "markdown",
      "metadata": {
        "id": "va9eS30h1Q54"
      },
      "source": [
        "## Import packages"
      ]
    },
    {
      "cell_type": "code",
      "execution_count": null,
      "metadata": {
        "id": "qdGAb3W_TC2K"
      },
      "outputs": [],
      "source": [
        "from pathlib import Path\n",
        "import json, os\n",
        "import pandas as pd\n",
        "\n",
        "import os, sys, pickle, json\n",
        "import pandas as pd\n",
        "import polars as pol\n",
        "import numpy as np\n",
        "from pathlib import Path\n",
        "\n",
        "import matplotlib.pyplot as plt\n",
        "import seaborn as sns\n",
        "import plotly.express as px\n",
        "\n",
        "import plotly.io as pio\n",
        "\n",
        "from tqdm import tqdm\n",
        "\n",
        "from PIL import Image\n",
        "from functools import wraps\n",
        "\n",
        "from sklearn.manifold import TSNE\n",
        "\n",
        "import random, math\n",
        "\n",
        "import torch\n",
        "\n",
        "from sklearn.model_selection import train_test_split\n",
        "from keras.preprocessing.text import Tokenizer\n",
        "from keras.layers import Embedding, LSTM, Dense\n",
        "from keras.models import Sequential\n",
        "from sklearn.cluster import KMeans\n",
        "from sklearn.feature_extraction.text import TfidfVectorizer\n",
        "\n",
        "pd.set_option('display.max_rows', None)\n",
        "pd.set_option('display.max_columns', None)\n",
        "pd.set_option('display.width', None)\n",
        "\n",
        "try:\n",
        "    os.environ['KAGGLE_KERNEL_RUN_TYPE'] == 'Interactive'\n",
        "    IS_INTERACTIVE = 1\n",
        "    folder = '../input/neiss-2023/'\n",
        "    pio.renderers.default = 'notebook' # enable renderer\n",
        "    ''' other options:\n",
        "    ['plotly_mimetype', 'jupyterlab', 'nteract', 'vscode',\n",
        "      'notebook', 'notebook_connected', 'kaggle', 'azure', 'colab',\n",
        "      'cocalc', 'databricks', 'json', 'png', 'jpeg', 'jpg', 'svg',\n",
        "      'pdf', 'browser', 'firefox', 'chrome', 'chromium', 'iframe',\n",
        "      'iframe_connected', 'sphinx_gallery', 'sphinx_gallery_png']\n",
        "    '''\n",
        "\n",
        "except:\n",
        "  try:\n",
        "    if 'ipykernel' in os.environ['MPLBACKEND']:\n",
        "      IS_INTERACTIVE = 2\n",
        "    folder = ''\n",
        "    pio.renderers.default = 'colab' # enable renderer\n",
        "  except:\n",
        "    IS_INTERACTIVE = 0\n",
        "\n",
        "mode = 'publish' if IS_INTERACTIVE else 'demo'\n",
        "print( 'Running in interative mode?', IS_INTERACTIVE, '(0=No | 1=Kaggle | 2=Colab)\\n\\nRunning mode:', mode, folder )\n",
        "try:\n",
        "  Path( folder + \"variable_mapping.json\").open(\"r\")\n",
        "except:\n",
        "  if IS_INTERACTIVE==2:\n",
        "    !unzip /content/drive/MyDrive/datasets/neiss-2023.zip # unzip if not found"
      ]
    },
    {
      "cell_type": "markdown",
      "metadata": {
        "id": "63ggrt2KeyuW"
      },
      "source": [
        "# Introduction to the \"Unsupervised wisdom\" Challenge\n",
        "\n",
        "## Recap of the meta-data\n",
        "\n",
        "- 22 fields in the provided two csv files; variables in this notebook:\n",
        "\n",
        "  - ```df```: primary contains 115128 samples  \n",
        "  - ```df2```: supplementary contains 418393 samples\n",
        "  - ```mapping```: dictionary mapping codes to string values\n",
        "\n",
        "## Our goals\n",
        "\n",
        "We are suggested to focus on the textual data ```narrative```, ```age```, ```gender```; to discover possible risk factors to falls in seniors\n",
        "\n",
        "## Recap on:: the *Narratives*\n",
        "\n",
        "NEISS' coding guidelines on the narratives:\n",
        "\n",
        "```\n",
        "- Age and sex must be at the start of the comment (i.e., 10YOM, 11MOF).\n",
        "- Be descriptive and include pertinent details about the incident (i.e., who, what, why, when, where, how). Describe the sequence of events, alcohol/drug involvement, and the affected body part(s) in the middle of the comment.\n",
        "- The name and spelling of the product(s) must be correct. Include information about the brand, manufacturer, and model when known.\n",
        "- Include the patient’s alcohol concentration/level (BAC/BAL) whenever alcohol use is associated with the incident. If the patient’s alcohol concentration/level was not taken or recorded, the comment must state this.\n",
        "- The relevant clinician’s diagnoses should be at the end of the comment exactly as written in the ED record and denoted with “DX:”. This abbreviation helps distinguish the clinician’s diagnoses from other details about symptoms and complaints. If there are multiple diagnoses, separate them with punctuation marks. If there are no clinical diagnoses in the ED record, put “NO DX” at the end of comment.\n",
        "- Use sentence case (i.e., capitalize only the first word of each sentence and “DX:”) and correct any spelling errors.\n",
        "```\n"
      ]
    },
    {
      "cell_type": "markdown",
      "metadata": {
        "id": "jW86bPgHmhOA"
      },
      "source": [
        "# I. Exploratory Data Analysis (EDA)"
      ]
    },
    {
      "cell_type": "markdown",
      "source": [
        "## I-a. Load json + csv files"
      ],
      "metadata": {
        "id": "fnxd52jCYpaY"
      }
    },
    {
      "cell_type": "code",
      "source": [
        "%%capture\n",
        "\n",
        "if ( 'df2' in globals())==False:\n",
        "  with Path( folder + \"variable_mapping.json\").open(\"r\") as f:\n",
        "      mapping = json.load(f, parse_int=True)\n",
        "\n",
        "  for c in mapping.keys():\n",
        "      mapping[c] = {int(k): v for k, v in mapping[c].items()}\n",
        "\n",
        "  df = pd.read_csv(folder+\"primary_data.csv\", parse_dates=['treatment_date'], dtype={\"body_part_2\": \"Int64\", \"diagnosis_2\": \"Int64\"} )\n",
        "  df2 = pd.read_csv(folder+\"supplementary_data.csv\",  parse_dates=['treatment_date'], dtype={\"body_part_2\": \"Int64\", \"diagnosis_2\": \"Int64\"} )\n"
      ],
      "metadata": {
        "id": "mvqwufKOS_Xu"
      },
      "execution_count": null,
      "outputs": []
    },
    {
      "cell_type": "markdown",
      "metadata": {
        "id": "HUYIy-Hmh9Ly"
      },
      "source": [
        "\n",
        "\n",
        "## I-b. Create new columns"
      ]
    },
    {
      "cell_type": "code",
      "execution_count": null,
      "metadata": {
        "id": "1rJ8Fi1Kd2ry",
        "colab": {
          "base_uri": "https://localhost:8080/"
        },
        "outputId": "991239c6-ff3d-4587-ea74-158db26aacb6"
      },
      "outputs": [
        {
          "output_type": "stream",
          "name": "stdout",
          "text": [
            "CPU times: user 1.64 s, sys: 133 ms, total: 1.77 s\n",
            "Wall time: 1.84 s\n"
          ]
        }
      ],
      "source": [
        "%%time\n",
        "\n",
        "if ( 'org_columns' in globals())==False:\n",
        "    org_columns = df2.columns\n",
        "\n",
        "    df2['month'] = df2.treatment_date.dt.month\n",
        "    df2['year'] = df2.treatment_date.dt.year\n",
        "\n",
        "    df2['severity'] = df2['disposition'].replace(\n",
        "        {'4 - TREATED AND ADMITTED/HOSPITALIZED': 5,  # question, more or less severe?\n",
        "         '2 - TREATED AND TRANSFERRED': 4,\n",
        "         '1 - TREATED/EXAMINED AND RELEASED': 3,\n",
        "         '5 - HELD FOR OBSERVATION': 2,\n",
        "         '6 - LEFT WITHOUT BEING SEEN': 1\n",
        "        })\n",
        "\n",
        "    df2['age_cate']= pd.cut(\n",
        "    df2.age,\n",
        "    bins=[0,65,75,85,95,150],\n",
        "    labels=[\"<65\", \"65-74\", \"74-85\", \"85-94\",\"95+\"],\n",
        "    )\n",
        "\n",
        "    # drop the 3 cases of unknown sex and then map codes to English words\n",
        "    df2 = df2[df2.sex != 0]\n",
        "\n",
        "decoded_df2 = df2.copy()\n",
        "\n",
        "for col in mapping.keys():\n",
        "    decoded_df2[col] = decoded_df2[col].map(mapping[col])"
      ]
    },
    {
      "cell_type": "markdown",
      "metadata": {
        "id": "M8aQ_g29iKgX"
      },
      "source": [
        "## I-c. Visualize select variables with ```plotly```"
      ]
    },
    {
      "cell_type": "code",
      "execution_count": null,
      "metadata": {
        "id": "zGnAI1jyd2vi"
      },
      "outputs": [],
      "source": [
        "import plotly.graph_objects as go\n",
        "import plotly.express as px\n",
        "\n",
        "fig = px.histogram( decoded_df2, x='age_cate', color='sex', width=400, height=300 ); fig.show()"
      ]
    },
    {
      "cell_type": "markdown",
      "metadata": {
        "id": "isk_twG0h1AO"
      },
      "source": [
        "## I-d. Inspect a random sample of the narratives"
      ]
    },
    {
      "cell_type": "code",
      "execution_count": null,
      "metadata": {
        "id": "o5QQrpqTfZ_K",
        "colab": {
          "base_uri": "https://localhost:8080/"
        },
        "outputId": "b2c69c84-a19c-4855-8213-6cd7a109c643"
      },
      "outputs": [
        {
          "output_type": "stream",
          "name": "stdout",
          "text": [
            "|        | narrative                                                                                                                                                                                                                                                                                                                                                                                |\n",
            "|-------:|:-----------------------------------------------------------------------------------------------------------------------------------------------------------------------------------------------------------------------------------------------------------------------------------------------------------------------------------------------------------------------------------------|\n",
            "|      5 | *92 YOF, PT STATES THAT SHE WAS TRYING TO REACH INTO A CABINET & SHE ACCIDENTALLY FELL. DX; FX OF THE HUMERUS,ACCIDENT FALL,BLUNT HEAD TRAUMA                                                                                                                                                                                                                                            |\n",
            "|  50005 | 69 YF FELL GOING UP AN ESCALATOR WHILE TRYING TO GET LUGGAGE ON ESCALATOR. DX HEAD INJURY                                                                                                                                                                                                                                                                                                |\n",
            "| 100005 | 65YOF FELL DOWN A FLIGHT OF STAIRS AND SUSTAINED A WRIST FRACTURE                                                                                                                                                                                                                                                                                                                        |\n",
            "| 150005 | 67 YOM STATES WAS DRINKING & FELL GETTING OUT OF RECLINER AND NOWHAVING CHEST PAIN DX CHEST PAIN/ ALCOHOL INTOX                                                                                                                                                                                                                                                                          |\n",
            "| 200006 | 85YOF FX NOSE, TRIPPED & FELL ON TILE FLOOR AT MALL                                                                                                                                                                                                                                                                                                                                      |\n",
            "| 250006 | 68YOF FELL OFF A FENCE SHE WAS CLIMBING  DX:  FRACTURED ANKLE                                                                                                                                                                                                                                                                                                                            |\n",
            "| 300006 | 72YOF WHO RESIDES AT A LOCAL NURSING HOME PRESENTS WITH LEFT HIP PAIN STATUS POST FALL 2 NIGHTS AGO. SHE WAS WALKING WITH HER WALKER TO GO TO THE BATHROOM AND FELL, HIT THE EDGE OF HER ROOMMATES BED.  SHE WAS SEEN AT A LOCAL CLINIC AND FOUND TO HAVE A PUBIC RAMUS FRACTURE. HERE SHE ALSO HAS SACRAL FRACTURE AND INTRAMUSCULAR HEMATOMA OF GLUTEUS. DX: SACRAL FRACTURE, HEMATOMA |\n",
            "| 350006 | 69 YOM C/O HEAD INJURY AND SHOULDER INJURY S/P FALL OFF BIKE. DX: HEAD INJURY; SHOULDER INJURY                                                                                                                                                                                                                                                                                           |\n",
            "| 400007 | 70YOF REPORTS SHE TRIPPED OVER HER CANE AND FELL INTO A SHELF. PT IS C/O LT RIB PAIN. DX:CLOSED FX OF ONE RIB OF LT SIDE, FALL                                                                                                                                                                                                                                                           |\n"
          ]
        }
      ],
      "source": [
        "from IPython.core.display import HTML\n",
        "\n",
        "print( df2.narrative[5::50000].to_markdown() )"
      ]
    },
    {
      "cell_type": "markdown",
      "metadata": {
        "id": "LvVhdDkkjvZM"
      },
      "source": [
        "## I-e. Define a function for multi-variable visual analyses\n",
        "\n",
        "Example: ```sex```, ```age```, and ```location```\n",
        "\n",
        "...where ```Houses``` includ:\n",
        "- Single-family homes, townhouses, duplexes, etc.\n",
        "- Farmhouses\n",
        "- Foster homes\n",
        "- Private areas immediately surrounding houses (e.g., driveway, garage, garden, porch, patio, sidewalk, yard)\n",
        "- Private living areas of apartments/condominiums\n",
        "\n",
        "... exclude:\n",
        "- Group homes\n",
        "- Mobile homes\n",
        "- Residential treatment facilities\n",
        "- Common areas of apartments/condominiums"
      ]
    },
    {
      "cell_type": "code",
      "execution_count": null,
      "metadata": {
        "id": "GcRfl0nIjm9O"
      },
      "outputs": [],
      "source": [
        "r='ALCOHOL'\n",
        "decoded_df2_pol = pol.DataFrame(decoded_df2).with_columns( pol.when(\n",
        "    pol.col(\"narrative\").str.contains(r) | pol.col(\"narrative\").str.contains('WINE')\n",
        "    ).then(1).otherwise(0).alias(r))\n",
        "\n",
        "r='SMOKED'\n",
        "decoded_df2_pol = pol.DataFrame(decoded_df2).with_columns( pol.when(\n",
        "    pol.col(\"narrative\").str.contains(r) | pol.col(\"narrative\").str.contains('SMOKER') | pol.col(\"narrative\").str.contains('SMOKING')\n",
        "    ).then(1).otherwise(0).alias(r))\n"
      ]
    },
    {
      "cell_type": "code",
      "source": [
        "def violinplot_age_sex_attribute(  decoded_df, cate_var, cont_var='age', groupby_key='sex', degs=0, add_text='', show_dots=0, figsize=(14,4), df=None, swap_axes=False ):\n",
        "\n",
        "    sns.set_theme(style=\"whitegrid\")\n",
        "\n",
        "    fig=plt.figure( figsize=figsize)\n",
        "    fs=figsize[0]*3\n",
        "\n",
        "    tit=cate_var.replace('_', ' ')\n",
        "    if df is not None:\n",
        "      choices= df[cate_var].unique()\n",
        "      l = [mapping[cate_var][c] for c in choices ]\n",
        "      print('Possible values of the attribute:', l)\n",
        "    else:\n",
        "      l = decoded_df[cate_var].unique()\n",
        "\n",
        "    g_keys = decoded_df[groupby_key].unique();\n",
        "    print( g_keys, 'are possible values')\n",
        "    for i,s in enumerate(g_keys):\n",
        "      if ('f' in s.lower()):\n",
        "          female_lab = s\n",
        "      else:\n",
        "          male_lab = s\n",
        "\n",
        "    if show_dots:\n",
        "        choice=\"points\"\n",
        "    else:\n",
        "        choice=\"quart\"\n",
        "\n",
        "\n",
        "    sns.set(font_scale = fs/7 )\n",
        "\n",
        "    if swap_axes:\n",
        "      ax = sns.violinplot(data=decoded_df, y=cate_var, x=cont_var, hue=\"sex\",\n",
        "                       split=True, linewidth=1, inner=choice,\n",
        "                       palette={female_lab: \".75\", male_lab: \"b\"},  )\n",
        "      ax.set_yticklabels( l, rotation=degs, );\n",
        "      ax.set_xlabel( cont_var.lower(), fontsize=fs/2)\n",
        "      ax.set_ylabel( cate_var.lower(), fontsize=fs/2)\n",
        "    else:\n",
        "      ax = sns.violinplot(data=decoded_df, x=cate_var, y=cont_var, hue=\"sex\",\n",
        "                       split=True, linewidth=1, inner=choice,\n",
        "                       palette={female_lab: \".75\", male_lab: \"b\"},  )\n",
        "      ax.set_xticklabels( l, rotation=degs, );\n",
        "      ax.set_ylabel( cont_var.lower(), fontsize=fs/2)\n",
        "      ax.set_xlabel( cate_var.lower(), fontsize=fs/2)\n",
        "\n",
        "    sns.despine(left=True)\n",
        "    plt.rcParams['savefig.dpi'] = 200\n",
        "    plt.rcParams['figure.dpi'] = 200\n",
        "    print('font size',fs)\n",
        "    plt.title( add_text, fontsize=fs )\n",
        "    plt.tick_params(axis='both', which='major', labelsize=fs/2 )\n",
        "\n",
        "    # for legend text\n",
        "    plt.setp( ax.get_legend().get_texts(), fontsize=fs/2 )\n",
        "    plt.setp( ax.get_legend().get_title(), fontsize=fs/2 )\n",
        "    plt.show()\n",
        "\n",
        "# q = decoded_df2_pol.filter( pol.col(r)==1 )\n",
        "\n",
        "violinplot_age_sex_attribute( decoded_df2_pol.to_pandas(), cate_var='SMOKED', cont_var='age', add_text='Age-Smoke-Sex in SUPP',\n",
        "                             figsize=(2,1), degs=30, show_dots=True )"
      ],
      "metadata": {
        "colab": {
          "base_uri": "https://localhost:8080/",
          "height": 333
        },
        "id": "pz-ofM2opU9k",
        "outputId": "a6c45c00-bec1-4426-e167-4624eb5ebb9b"
      },
      "execution_count": null,
      "outputs": [
        {
          "output_type": "stream",
          "name": "stdout",
          "text": [
            "['FEMALE' 'MALE'] are possible values\n",
            "font size 6\n"
          ]
        },
        {
          "output_type": "display_data",
          "data": {
            "text/plain": [
              "<Figure size 400x200 with 1 Axes>"
            ],
            "image/png": "[encoded data removed]"
          },
          "metadata": {}
        }
      ]
    },
    {
      "cell_type": "code",
      "execution_count": null,
      "metadata": {
        "id": "Ijmff59YjnA2",
        "colab": {
          "base_uri": "https://localhost:8080/",
          "height": 653
        },
        "outputId": "88838095-e44e-4542-cc8e-21f81d1b4534"
      },
      "outputs": [
        {
          "output_type": "stream",
          "name": "stdout",
          "text": [
            "['FEMALE' 'MALE'] are possible values\n",
            "font size 9\n"
          ]
        },
        {
          "output_type": "display_data",
          "data": {
            "text/plain": [
              "<Figure size 600x600 with 1 Axes>"
            ],
            "image/png": "[encoded data removed]"
          },
          "metadata": {}
        }
      ],
      "source": [
        "violinplot_age_sex_attribute( decoded_df2_pol.to_pandas(), cate_var='location', cont_var='age', add_text='Age-Location-Sex in SUPP',\n",
        "                             figsize=(3,3), swap_axes=True, degs=0, show_dots=False )"
      ]
    },
    {
      "cell_type": "code",
      "source": [
        "decoded_df2.value_counts('race')"
      ],
      "metadata": {
        "id": "0PSLbxHvaKrl",
        "colab": {
          "base_uri": "https://localhost:8080/"
        },
        "outputId": "18d24ed4-5b80-4f5a-f0ac-a4e237f6a562"
      },
      "execution_count": null,
      "outputs": [
        {
          "output_type": "execute_result",
          "data": {
            "text/plain": [
              "race\n",
              "WHITE                               218544\n",
              "N.S.                                160666\n",
              "BLACK/AFRICAN AMERICAN               27457\n",
              "OTHER                                 5785\n",
              "ASIAN                                 4921\n",
              "AMERICAN INDIAN/ALASKA NATIVE          746\n",
              "NATIVE HAWAIIAN/PACIFIC ISLANDER       271\n",
              "dtype: int64"
            ]
          },
          "metadata": {},
          "execution_count": 18
        }
      ]
    },
    {
      "cell_type": "markdown",
      "source": [
        "## I-f. EDA on products involved in falls"
      ],
      "metadata": {
        "id": "SWLCiVH9ZXYE"
      }
    },
    {
      "cell_type": "code",
      "execution_count": null,
      "metadata": {
        "id": "B0F_jIx5mP-H",
        "colab": {
          "base_uri": "https://localhost:8080/"
        },
        "outputId": "69b0221f-33ab-444d-e3d8-b5e02c2416fe"
      },
      "outputs": [
        {
          "output_type": "execute_result",
          "data": {
            "text/plain": [
              "product_1\n",
              "1807 - FLOORS OR FLOORING MATERIALS                                    120111\n",
              "4076 - BEDS OR BEDFRAMES, OTHER OR NOT SPECIFIED                        51011\n",
              "1842 - STAIRS OR STEPS                                                  46439\n",
              "4074 - CHAIRS, OTHER OR NOT SPECIFIED                                   23053\n",
              "611 - BATHTUBS OR SHOWERS                                               15281\n",
              "649 - TOILETS                                                           13643\n",
              "676 - RUGS OR CARPETS, NOT SPECIFIED                                     9764\n",
              "4057 - TABLES (EXCL.  BABY CHANGING TABLES, BILLIARD OR POOL TABLES      8352\n",
              "1884 - CEILINGS AND WALLS (INTERIOR PART OF COMPLETED STRUCTURE)         7847\n",
              "4078 - LADDERS, OTHER OR NOT SPECIFIED                                   6803\n",
              "dtype: int64"
            ]
          },
          "metadata": {},
          "execution_count": 19
        }
      ],
      "source": [
        "decoded_df2.value_counts('product_1')[:10]"
      ]
    },
    {
      "cell_type": "markdown",
      "source": [
        "## I-g. Severity"
      ],
      "metadata": {
        "id": "-LLnwbhfnPQ2"
      }
    },
    {
      "cell_type": "code",
      "source": [
        "decoded_df2.value_counts('severity')"
      ],
      "metadata": {
        "colab": {
          "base_uri": "https://localhost:8080/"
        },
        "id": "EBJXiVjHmXy0",
        "outputId": "6d7aed98-daa7-4307-f18e-3bfababa6301"
      },
      "execution_count": null,
      "outputs": [
        {
          "output_type": "execute_result",
          "data": {
            "text/plain": [
              "severity\n",
              "1    268981\n",
              "4    130580\n",
              "5      8376\n",
              "2      7597\n",
              "6      2288\n",
              "8       560\n",
              "9         8\n",
              "dtype: int64"
            ]
          },
          "metadata": {},
          "execution_count": 21
        }
      ]
    },
    {
      "cell_type": "code",
      "source": [
        "d =decoded_df2.iloc[::10,:]\n",
        "print(d.shape )\n",
        "px.violin( d, y='age', x='severity', title='Age distributions of different severity levels', width=600 ) # sample"
      ],
      "metadata": {
        "id": "m5LbJ9JariCH"
      },
      "execution_count": null,
      "outputs": []
    },
    {
      "cell_type": "markdown",
      "source": [
        "## I-h. Diagnosis"
      ],
      "metadata": {
        "id": "qhQn-hYTw_mX"
      }
    },
    {
      "cell_type": "code",
      "source": [
        "decoded_df2.value_counts('diagnosis')"
      ],
      "metadata": {
        "colab": {
          "base_uri": "https://localhost:8080/"
        },
        "id": "Tknswx45iC3f",
        "outputId": "6d8770db-c6ea-4794-ed38-2e345f680264"
      },
      "execution_count": null,
      "outputs": [
        {
          "output_type": "execute_result",
          "data": {
            "text/plain": [
              "diagnosis\n",
              "57 - FRACTURE            115146\n",
              "62 - INTERNAL INJURY      88070\n",
              "53 - CONTUSIONS, ABR.     67081\n",
              "71 - OTHER                62641\n",
              "59 - LACERATION           42001\n",
              "64 - STRAIN, SPRAIN       17066\n",
              "58 - HEMATOMA             10120\n",
              "72 - AVULSION              5033\n",
              "55 - DISLOCATION           3979\n",
              "52 - CONCUSSION            3638\n",
              "68 - POISONING             1374\n",
              "61 - NERVE DAMAGE           624\n",
              "66 - HEMORRHAGE             395\n",
              "51 - BURNS, THERMAL         267\n",
              "60 - DENTAL INJURY          241\n",
              "63 - PUNCTURE               187\n",
              "48 - BURN, SCALD            141\n",
              "56 - FOREIGN BODY           101\n",
              "54 - CRUSHING                57\n",
              "50 - AMPUTATION              56\n",
              "65 - ANOXIA                  48\n",
              "74 - DERMA/CONJUNCT          31\n",
              "42 - ASPIRATION              30\n",
              "69 - SUBMERSION              16\n",
              "49 - BURN, CHEMICAL          12\n",
              "47 - BURN, NOT SPEC.         12\n",
              "67 - ELECTRIC SHOCK          11\n",
              "41 - INGESTION               10\n",
              "46 - BURN, ELECTRICAL         1\n",
              "73 - RADIATION                1\n",
              "dtype: int64"
            ]
          },
          "metadata": {},
          "execution_count": 25
        }
      ]
    },
    {
      "cell_type": "markdown",
      "source": [
        "## I-i. New diagnoses of dementia, etc.?"
      ],
      "metadata": {
        "id": "6ZvfzvJtoNUW"
      }
    },
    {
      "cell_type": "code",
      "source": [
        "try:\n",
        "  for k2 in ['diagnosis', 'other_diagnosis', 'diagnosis_2']:\n",
        "    print('New index dx cases of dementia, etc.?')\n",
        "    for k in ['CONTUSIONS','DEMENTIA', 'PARKINSON', 'ALZHEIMER']:\n",
        "      p=' '.join(decoded_df2[[k2]]).find(k)\n",
        "      print(f'\\tCounts of {k}:', p)\n",
        "except:\n",
        "  pass"
      ],
      "metadata": {
        "colab": {
          "base_uri": "https://localhost:8080/"
        },
        "id": "wq_djTP5oGUr",
        "outputId": "bdafb80e-8dba-4790-9aa7-e8d30fe13806"
      },
      "execution_count": null,
      "outputs": [
        {
          "output_type": "stream",
          "name": "stdout",
          "text": [
            "New index dx cases of dementia, etc.?\n",
            "\tCounts of CONTUSIONS: -1\n",
            "\tCounts of DEMENTIA: -1\n",
            "\tCounts of PARKINSON: -1\n",
            "\tCounts of ALZHEIMER: -1\n",
            "New index dx cases of dementia, etc.?\n",
            "\tCounts of CONTUSIONS: -1\n",
            "\tCounts of DEMENTIA: -1\n",
            "\tCounts of PARKINSON: -1\n",
            "\tCounts of ALZHEIMER: -1\n",
            "New index dx cases of dementia, etc.?\n",
            "\tCounts of CONTUSIONS: -1\n",
            "\tCounts of DEMENTIA: -1\n",
            "\tCounts of PARKINSON: -1\n",
            "\tCounts of ALZHEIMER: -1\n"
          ]
        }
      ]
    },
    {
      "cell_type": "code",
      "source": [
        "!cat supplementary_data.csv | grep \"EARLY ONSET\" | wc -l\n",
        "!cat supplementary_data.csv | grep \"EARLY ONSET\""
      ],
      "metadata": {
        "colab": {
          "base_uri": "https://localhost:8080/"
        },
        "id": "Vp_pJ0yqxGcD",
        "outputId": "8ae5a3d4-75c0-4252-fcf3-48d5d2d38293"
      },
      "execution_count": null,
      "outputs": [
        {
          "output_type": "stream",
          "name": "stdout",
          "text": [
            "cat: supplementary_data.csv: No such file or directory\n",
            "0\n",
            "cat: supplementary_data.csv: No such file or directory\n"
          ]
        }
      ]
    },
    {
      "cell_type": "markdown",
      "metadata": {
        "id": "mSJFyVzo7vmC"
      },
      "source": [
        "# II. Extract keywords in narratives using ```YAKE```"
      ]
    },
    {
      "cell_type": "markdown",
      "metadata": {
        "id": "RtA3lvco7vgm"
      },
      "source": [
        "```\n",
        "YAKE! is a light-weight unsupervised automatic keyword extraction method which rests on text statistical features extracted from single documents to select the most important keywords of a text. Our system does not need to be trained on a particular set of documents, neither it depends on dictionaries, external-corpus, size of the text, language or domain. To demonstrate the merits and the significance of our proposal, we compare it against ten state-of-the-art unsupervised approaches (TF.IDF, KP-Miner, RAKE, TextRank, SingleRank, ExpandRank, TopicRank, TopicalPageRank, PositionRank and MultipartiteRank), and one supervised method (KEA).\n",
        "```\n",
        "\n",
        "Source: Campos, R., Mangaravite, V., Pasquali, A., Jatowt, A., Jorge, A., Nunes, C. and Jatowt, A. (2020). YAKE! Keyword Extraction from Single Documents using Multiple Local Features. In Information Sciences Journal. Elsevier, Vol 509, pp 257-289\n"
      ]
    },
    {
      "cell_type": "markdown",
      "source": [
        "### Background info: YAKE!'s algorithm\n",
        "\n",
        "Input: text, n-gram ($n$), dup threshold (θ), window size ($w$)\n",
        "```\n",
        "1:  # (Step 1) Text pre-processing and candidate term identification\n",
        "2:  sentences = split text into sentences\n",
        "3:  for each sentence in sentences do\n",
        "4:    Pre-process (sentence, language)\n",
        "5:  end for\n",
        "6:  # (Step 2) Feature extraction & (Step 3) Term score\n",
        "7:  for each term in sentences do\n",
        "8:    Feature extraction\n",
        "9:    Compute term weight\n",
        "10:  end for\n",
        "11:  # (Step 4) n-gram generation\n",
        "12:  for each sentence in sentences do\n",
        "13:    chunks = split sentence into chunks\n",
        "14:    for each chunk in chunks do\n",
        "15:      Build n-gram candidateKeywords list\n",
        "16:    end for\n",
        "17:  end for\n",
        "18:  # (Step 4) Candidate keyword score\n",
        "19:  for each candidate in candidateKeywords do\n",
        "20:    Compute candidateKeywords weight\n",
        "21:  end for\n",
        "22:  # (Step 5) Data deduplication\n",
        "23:  for each candidate1, candidate2 in candidateKeywords do\n",
        "24:    if DistanceSimilarity(candidate1, candidate2) > θ:\n",
        "25:      Remove candidate from candidateKeywords\n",
        "26:  end for\n",
        "27:  # (Step 5) Ranking\n",
        "28:  Keywords = sort (candidateKeywords) by ascending score\n",
        "Output: (Keywords, score)\n",
        "```\n",
        "\n",
        "Source: [DOI of paper](https://www.sciencedirect.com/science/article/pii/S0020025519308588)"
      ],
      "metadata": {
        "id": "3v4CAj6HUl38"
      }
    },
    {
      "cell_type": "markdown",
      "source": [
        "## II-a. Divide narratives into \"Main\" and diagnosis (\"Dx\")"
      ],
      "metadata": {
        "id": "mBGjz85X-fle"
      }
    },
    {
      "cell_type": "code",
      "source": [
        "def strip_basic_info( l ):\n",
        "    for a in ['YOF', 'YO FEMALE', 'Y/O FEMALE', 'YO F', 'YF', 'Y O F', 'YOM', ' YWF',\n",
        "              'YO MALE', 'YO M', 'Y O M', 'YM', 'Y/O WM',\n",
        "              'Y/O MALE' , 'Y/O M', 'OLD FE', 'OLD MALE ', 'FEMALE', 'MALE']:\n",
        "        try:\n",
        "            l = l.split(a[:10])[1]\n",
        "            l = l[:2].replace(' ','').replace(', ', '').replace(',', '').replace('-', '').replace('#', '').replace('.', '') + l[2:]\n",
        "            break\n",
        "        except:\n",
        "            pass\n",
        "    ll=l.split('DX')\n",
        "    try:\n",
        "        dx = ll[1]\n",
        "    except:\n",
        "        dx = ''\n",
        "    return ll[0], dx"
      ],
      "metadata": {
        "id": "AYrhqdkPg8Rt"
      },
      "execution_count": null,
      "outputs": []
    },
    {
      "cell_type": "code",
      "source": [
        "%%time\n",
        "\n",
        "try:\n",
        "  !mkdir /content/drive/MyDrive/datasets/NEISS-2023/\n",
        "except:\n",
        "  pass\n",
        "\n",
        "if 1:\n",
        "  outdir = '/content/drive/MyDrive/datasets/NEISS-2023/'\n",
        "  # do not rerun try-block if folder of processed files already made\n",
        "\n",
        "  dat = decoded_df2[['narrative']].values\n",
        "\n",
        "  with open( outdir+\"narratives.txt\", \"w\") as f:\n",
        "    with open( outdir+\"narratives_dx.txt\", \"w\") as f2:\n",
        "      for l in dat:\n",
        "\n",
        "        # illustrative example to strip\n",
        "        ll,dx= strip_basic_info( l[0] )\n",
        "        dx=dx.replace(':','')\n",
        "        if len(ll)>0:\n",
        "          f.write( ''.join( ll ) + '\\n')\n",
        "        if len(dx)>0:\n",
        "          f2.write( ''.join( dx ) + '\\n')\n",
        "\n",
        "  with open( outdir+\"narratives.txt\", \"r\") as f:\n",
        "      dat = f.read().splitlines()\n",
        "\n",
        "  with open( outdir+\"narratives_dx.txt\", \"r\") as f:\n",
        "      dat_dx = f.read().splitlines()\n"
      ],
      "metadata": {
        "colab": {
          "base_uri": "https://localhost:8080/"
        },
        "id": "ObfpXLF4971E",
        "outputId": "0e4aebc2-8e42-4a40-a7ab-d8d1b686e01e"
      },
      "execution_count": null,
      "outputs": [
        {
          "output_type": "stream",
          "name": "stdout",
          "text": [
            "mkdir: cannot create directory ‘/content/drive/MyDrive/datasets/NEISS-2023/’: File exists\n",
            "CPU times: user 3.06 s, sys: 103 ms, total: 3.16 s\n",
            "Wall time: 3.77 s\n"
          ]
        }
      ]
    },
    {
      "cell_type": "code",
      "source": [
        "%%time\n",
        "# took 4 minutes to run\n",
        "\n",
        "if 0:\n",
        "\n",
        "  # load if already computed\n",
        "\n",
        "  z=np.load( outdir + '/narrative_keywords.npz' )\n",
        "  keywords = z['keywords']\n",
        "\n",
        "else:\n",
        "\n",
        "  # first time user run this block; switch otherwise so you can save the calculations and reload from file in future sessions\n",
        "  !pip install yake\n",
        "\n",
        "  import yake\n",
        "\n",
        "  all_text = '|'.join(dat)\n",
        "\n",
        "  max_ngram_size = 1\n",
        "  deduplication_threshold = 0.9\n",
        "  deduplication_algo = 'seqm'\n",
        "  windowSize = 1\n",
        "  numOfKeywords = 1000\n",
        "  custom_kw_extractor = yake.KeywordExtractor(lan='en',\n",
        "                                              n=max_ngram_size,\n",
        "                                              dedupLim=deduplication_threshold,\n",
        "                                              dedupFunc=deduplication_algo,\n",
        "                                              windowsSize=windowSize,\n",
        "                                              top=numOfKeywords,\n",
        "                                              features=None)\n",
        "\n",
        "  keywords = custom_kw_extractor.extract_keywords(all_text)\n",
        "\n",
        "  # save to file so we don't have to rerun\n",
        "  np.savez_compressed( outdir + '/narrative_keywords', keywords=keywords )\n"
      ],
      "metadata": {
        "id": "_CDWKIL3CJF7"
      },
      "execution_count": null,
      "outputs": []
    },
    {
      "cell_type": "markdown",
      "source": [
        "## II-b. Visualize the most/lesser significant keywords via a bar chart"
      ],
      "metadata": {
        "id": "dUTKK_ccRzS_"
      }
    },
    {
      "cell_type": "code",
      "source": [
        "df = pd.DataFrame( keywords, columns= ['keyword', 'significance' ] )\n",
        "df.significance = np.log10( 1/(1e-10+d.iloc[:,1] ) )\n",
        "\n",
        "print(df.iloc[:50,].shape )\n",
        "print(df.head(5))\n",
        "\n",
        "# Note TDY=today, YTD=yesterday\n",
        "\n",
        "r = np.array( list(range(999,990,-1)) + list(range(500,489,-1)) + list(range(10,-1,-1)) )\n",
        "fig=px.bar( df.iloc[r,], x='significance', y='keyword', orientation='h', width=400, height=800, title='Survey of lesser/most sign. keywords')"
      ],
      "metadata": {
        "id": "o5Cbygo7zaR4"
      },
      "execution_count": null,
      "outputs": []
    },
    {
      "cell_type": "markdown",
      "source": [
        "## II-c. Trim the keywords to exclude falls, etc."
      ],
      "metadata": {
        "id": "Srd2bCzI6Fnf"
      }
    },
    {
      "cell_type": "code",
      "source": [
        "# falls, falling, fall repeated and can be skipped\n",
        "\n",
        "yake_kws = ' '.join( df.keyword ).replace( 'FALLS','').replace('FALLING','').replace('FALL','').replace('FELL','').replace('  ','').split(' ')\n",
        "yake_kws.remove('')\n",
        "yake_kws= list(set(yake_kws))\n",
        "len(yake_kws), 'Sample list of keywords', yake_kws[::200]"
      ],
      "metadata": {
        "colab": {
          "base_uri": "https://localhost:8080/"
        },
        "id": "I72aPb6q18Mp",
        "outputId": "ece35f0b-1b9f-4e4d-a3b9-bcef4ed4a4d4"
      },
      "execution_count": null,
      "outputs": [
        {
          "output_type": "execute_result",
          "data": {
            "text/plain": [
              "(992,\n",
              " 'Sample list of keywords',\n",
              " ['CABINETS', 'EVAL', 'EXERCISE', 'DUE', 'FEEL'])"
            ]
          },
          "metadata": {},
          "execution_count": 88
        }
      ]
    },
    {
      "cell_type": "markdown",
      "source": [
        "## II-d. Encode occurence of keyword as features\n",
        "\n",
        "- Included sex unsupervised clustering"
      ],
      "metadata": {
        "id": "_D99ZG-o6Fk0"
      }
    },
    {
      "cell_type": "code",
      "source": [
        "%%time\n",
        "# took 1 min\n",
        "if ('yake_features' in globals() )==False:\n",
        "  yake_features = pol.DataFrame( df2[['narrative','sex']] )\n",
        "  display(yake_features.head(3))\n",
        "\n",
        "  for i,r in enumerate( tqdm( yake_kws ) ):\n",
        "    yake_features= yake_features.with_columns( pol.when(pol.col(\"narrative\").str.contains(r) ).then(1).otherwise(0).alias(r))\n",
        "\n",
        "X = yake_features.select( pol.all().exclude( 'narrative' ) )\n",
        "X = X.to_pandas().set_index( decoded_df2.index )\n",
        "\n",
        "# will not save X because it did not take long to (re)calculate"
      ],
      "metadata": {
        "colab": {
          "base_uri": "https://localhost:8080/",
          "height": 244
        },
        "id": "CZJPru6D3nVF",
        "outputId": "e8d675a0-e20a-40a6-a3a3-902a8fa7cad8"
      },
      "execution_count": null,
      "outputs": [
        {
          "output_type": "display_data",
          "data": {
            "text/plain": [
              "shape: (3, 2)\n",
              "┌───────────────────────────────────┬─────┐\n",
              "│ narrative                         ┆ sex │\n",
              "│ ---                               ┆ --- │\n",
              "│ str                               ┆ i64 │\n",
              "╞═══════════════════════════════════╪═════╡\n",
              "│ 86YOF AT NURSING HOME PUTTING PA… ┆ 2   │\n",
              "│ 83YOF AT ASSISTED LIVING FELL AN… ┆ 2   │\n",
              "│ 89YOF TAKING DOWN CHRISTMAS DECO… ┆ 2   │\n",
              "└───────────────────────────────────┴─────┘"
            ],
            "text/html": [
              "<div><style>\n",
              ".dataframe > thead > tr > th,\n",
              ".dataframe > tbody > tr > td {\n",
              "  text-align: right;\n",
              "}\n",
              "</style>\n",
              "<small>shape: (3, 2)</small><table border=\"1\" class=\"dataframe\"><thead><tr><th>narrative</th><th>sex</th></tr><tr><td>str</td><td>i64</td></tr></thead><tbody><tr><td>&quot;86YOF AT NURSI…</td><td>2</td></tr><tr><td>&quot;83YOF AT ASSIS…</td><td>2</td></tr><tr><td>&quot;89YOF TAKING D…</td><td>2</td></tr></tbody></table></div>"
            ]
          },
          "metadata": {}
        },
        {
          "output_type": "stream",
          "name": "stderr",
          "text": [
            "100%|██████████| 992/992 [00:22<00:00, 43.85it/s]\n"
          ]
        },
        {
          "output_type": "stream",
          "name": "stdout",
          "text": [
            "CPU times: user 19.5 s, sys: 4.7 s, total: 24.2 s\n",
            "Wall time: 26.2 s\n"
          ]
        }
      ]
    },
    {
      "cell_type": "code",
      "source": [
        "R=100 # draw a subset of the training cases and increase size if your resources (RAM) permit\n",
        "\n",
        "X_trn = X.iloc[::R,:]\n",
        "\n",
        "X_trn.sex=X_trn.sex-1\n",
        "\n",
        "race = decoded_df2.race[::R].values\n",
        "\n",
        "print(X_trn.shape, np.max(X_trn.to_numpy()), )"
      ],
      "metadata": {
        "id": "C0gAwfY4OXJu"
      },
      "execution_count": null,
      "outputs": []
    },
    {
      "cell_type": "code",
      "source": [
        "X_trn.race.unique()"
      ],
      "metadata": {
        "colab": {
          "base_uri": "https://localhost:8080/"
        },
        "id": "xxMBTPgRO_KV",
        "outputId": "44845d78-01f1-47f4-bd1f-d4b039a61f9c"
      },
      "execution_count": null,
      "outputs": [
        {
          "output_type": "execute_result",
          "data": {
            "text/plain": [
              "array([1, 0, 4, 3, 2, 5, 6])"
            ]
          },
          "metadata": {},
          "execution_count": 91
        }
      ]
    },
    {
      "cell_type": "markdown",
      "source": [
        "## II-e. Preliminary clustering of keywords extracted by YAKE!, along with sex, age, race info"
      ],
      "metadata": {
        "id": "-53rTQ165xf5"
      }
    },
    {
      "cell_type": "code",
      "source": [
        "%%capture\n",
        "\n",
        "!pip install umap-learn"
      ],
      "metadata": {
        "id": "jmCjWmv8RFgm"
      },
      "execution_count": null,
      "outputs": []
    },
    {
      "cell_type": "code",
      "source": [
        "%%time\n",
        "import umap\n",
        "\n",
        "embedding = umap.UMAP().fit_transform( X_trn )\n",
        "\n",
        "df = pd.DataFrame( dict(x=embedding[:,0], y=embedding[:,1], race=race ) )\n"
      ],
      "metadata": {
        "colab": {
          "base_uri": "https://localhost:8080/"
        },
        "id": "6luNkWrkYQGa",
        "outputId": "b32762ac-35a4-490b-eda4-9d9d3c349c30"
      },
      "execution_count": null,
      "outputs": [
        {
          "output_type": "stream",
          "name": "stdout",
          "text": [
            "CPU times: user 9.6 s, sys: 139 ms, total: 9.74 s\n",
            "Wall time: 9.46 s\n"
          ]
        }
      ]
    },
    {
      "cell_type": "code",
      "source": [
        "fig=px.scatter( df, x='x', y='y', color='race', hover_data='race', width=600, height=400, title='Color clusters by race (for demo purpose only)')\n",
        "fig.show()"
      ],
      "metadata": {
        "id": "XL9LXLa9Bpj4"
      },
      "execution_count": null,
      "outputs": []
    },
    {
      "cell_type": "code",
      "source": [
        "outdir"
      ],
      "metadata": {
        "colab": {
          "base_uri": "https://localhost:8080/",
          "height": 35
        },
        "id": "u0aNcn3OoNKh",
        "outputId": "7764fac0-2b50-4ac7-a103-ab0eff6ebfc6"
      },
      "execution_count": null,
      "outputs": [
        {
          "output_type": "execute_result",
          "data": {
            "text/plain": [
              "'/content/drive/MyDrive/datasets/NEISS-2023/'"
            ],
            "application/vnd.google.colaboratory.intrinsic+json": {
              "type": "string"
            }
          },
          "metadata": {},
          "execution_count": 116
        }
      ]
    },
    {
      "cell_type": "markdown",
      "source": [
        "# III. Consider sharing your notebook too? Don't forget to generate and upload ```requirements.txt```\n",
        "\n",
        "Note that all users are limited to 5MB of upload space.\n",
        "\n",
        "(Hence, we were not be able to include too many plots for demo so please poke around our demo)"
      ],
      "metadata": {
        "id": "1ldQNAONoiJr"
      }
    },
    {
      "cell_type": "code",
      "source": [
        "!pip freeze > /content/drive/MyDrive/datasets/NEISS-2023/requirements.txt"
      ],
      "metadata": {
        "id": "KVV3rTURoIVD"
      },
      "execution_count": null,
      "outputs": []
    },
    {
      "cell_type": "markdown",
      "source": [
        "# To be continued\n",
        "\n",
        "## Please upvote if you find this notebook helpful. Thanks for your support!\n"
      ],
      "metadata": {
        "id": "2FwcUDBr7RkJ"
      }
    }
  ],
  "metadata": {
    "colab": {
      "provenance": [],
      "toc_visible": true,
      "include_colab_link": true
    },
    "kernelspec": {
      "display_name": "Python 3",
      "name": "python3"
    },
    "language_info": {
      "name": "python"
    }
  },
  "nbformat": 4,
  "nbformat_minor": 0
}